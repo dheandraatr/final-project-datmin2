{
 "cells": [
  {
   "cell_type": "code",
<<<<<<< HEAD
   "execution_count": 1,
   "metadata": {},
   "outputs": [],
   "source": [
    "# img = 'https://upload.wikimedia.org/wikipedia/commons/thumb/e/e4/Cars_in_traffic_in_Auckland%2C_New_Zealand_-_copyright-free_photo_released_to_public_domain.jpg/800px-Cars_in_traffic_in_Auckland%2C_New_Zealand_-_copyright-free_photo_released_to_public_domain.jpg'\n",
    "# img = 'https://thumbs.dreamstime.com/z/traffic-jam-german-motorway-construction-site-153477297.jpg'\n",
    "# img = 'https://st2.depositphotos.com/2020859/5489/i/950/depositphotos_54891431-stock-photo-traffic-jam-on-german-highway.jpg'\n",
    "# img = 'https://imgx.gridoto.com/crop/0x0:0x0/700x465/photo/gridoto/2017/12/13/96302088.jpg'\n",
    "img = 'https://statik.tempo.co/data/2022/07/25/id_1127658/1127658_720.jpg'\n",
    "\n"
   ]
  },
  {
   "cell_type": "code",
   "execution_count": null,
   "metadata": {},
   "outputs": [],
   "source": [
    "from rembg import remove\n",
    "from PIL import Image\n",
    "\n",
    "input_path = img"
   ]
=======
   "execution_count": null,
   "metadata": {},
   "outputs": [],
   "source": []
>>>>>>> b3209c6641783559dee3013fbe39ac0ed9728503
  }
 ],
 "metadata": {
  "kernelspec": {
<<<<<<< HEAD
   "display_name": "Python 3",
=======
   "display_name": "Python 3 (ipykernel)",
>>>>>>> b3209c6641783559dee3013fbe39ac0ed9728503
   "language": "python",
   "name": "python3"
  },
  "language_info": {
   "codemirror_mode": {
    "name": "ipython",
    "version": 3
   },
   "file_extension": ".py",
   "mimetype": "text/x-python",
   "name": "python",
   "nbconvert_exporter": "python",
   "pygments_lexer": "ipython3",
<<<<<<< HEAD
   "version": "3.8.5"
=======
   "version": "3.10.8"
>>>>>>> b3209c6641783559dee3013fbe39ac0ed9728503
  }
 },
 "nbformat": 4,
 "nbformat_minor": 4
}
